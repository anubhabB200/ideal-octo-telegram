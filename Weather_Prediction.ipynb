{
  "nbformat": 4,
  "nbformat_minor": 0,
  "metadata": {
    "colab": {
      "provenance": [],
      "include_colab_link": true
    },
    "kernelspec": {
      "name": "python3",
      "display_name": "Python 3"
    },
    "language_info": {
      "name": "python"
    }
  },
  "cells": [
    {
      "cell_type": "markdown",
      "metadata": {
        "id": "view-in-github",
        "colab_type": "text"
      },
      "source": [
        "<a href=\"https://colab.research.google.com/github/anubhabB200/ideal-octo-telegram/blob/main/Weather_Prediction.ipynb\" target=\"_parent\"><img src=\"https://colab.research.google.com/assets/colab-badge.svg\" alt=\"Open In Colab\"/></a>"
      ]
    },
    {
      "cell_type": "code",
      "source": [
        "import requests\n",
        "import pandas as pd\n",
        "import numpy as np\n",
        "from sklearn.model_selection import train_test_split\n",
        "from sklearn.preprocessing import LabelEncoder\n",
        "from sklearn.ensemble import RandomForestClassifier,RandomForestRegressor\n",
        "from sklearn.metrics import mean_squared_error\n",
        "from datetime import datetime,timedelta\n",
        "import pytz"
      ],
      "metadata": {
        "id": "B6qGOWxzDh-7"
      },
      "execution_count": null,
      "outputs": []
    },
    {
      "cell_type": "code",
      "source": [
        "API_KEY = 'aa4dc67376a13897d47733422456a47b'\n",
        "BASE_URL='https://api.openweathermap.org/data/2.5/'"
      ],
      "metadata": {
        "id": "8LDAf1LFExOH"
      },
      "execution_count": null,
      "outputs": []
    },
    {
      "cell_type": "code",
      "source": [
        "def get_current_weather(city):\n",
        "  url=f\"{BASE_URL}weather?q={city}&appid={API_KEY}&units=metric\"\n",
        "  response = requests.get(url)\n",
        "  data = response.json()\n",
        "  return {\n",
        "      'city':data['name'],\n",
        "      'current_temp':round(data['main']['temp']),\n",
        "      'feels_like':round(data['main']['feels_like']),\n",
        "      'temp_min':round(data['main']['temp_min']),\n",
        "      'temp_max':round(data['main']['temp_max']),\n",
        "      'humidity':data['main']['humidity'],\n",
        "      'description':data['weather'][0]['description'],\n",
        "      'country':data['sys']['country'],\n",
        "      'wind_gust_dir':data['wind']['deg'],\n",
        "      'pressure':data['main']['pressure'],\n",
        "      'Wind_Gust_Speed':data['wind']['speed']\n",
        "}"
      ],
      "metadata": {
        "id": "ZrDy4TeZFMUM"
      },
      "execution_count": null,
      "outputs": []
    },
    {
      "cell_type": "code",
      "source": [
        "def read_historical_data(filename):\n",
        "  df = pd.read_csv(filename)\n",
        "  df = df.dropna()\n",
        "  df = df.drop_duplicates()\n",
        "  return df"
      ],
      "metadata": {
        "id": "pir46eOOG_nw"
      },
      "execution_count": null,
      "outputs": []
    },
    {
      "cell_type": "code",
      "source": [
        "def prepare_data(data):\n",
        "  le=LabelEncoder()\n",
        "  data['WindGustDir']=le.fit_transform(data['WindGustDir'])\n",
        "  data['RainTomorrow']=le.fit_transform(data['RainTomorrow'])\n",
        "\n",
        "\n",
        "  X = data[['MinTemp','MaxTemp','WindGustSpeed','Humidity','Pressure','Temp']]\n",
        "  y = data['RainTomorrow']\n",
        "  return X , y , le"
      ],
      "metadata": {
        "id": "8XSmwzPBIN5b"
      },
      "execution_count": null,
      "outputs": []
    },
    {
      "cell_type": "markdown",
      "source": [
        "Train Rain Prediction Model"
      ],
      "metadata": {
        "id": "T22uyTpl5APc"
      }
    },
    {
      "cell_type": "code",
      "source": [
        "def train_rain_model(X,y):\n",
        "  X_train,X_test,y_train,y_test = train_test_split(X,y,test_size=0.2,random_state=42)\n",
        "  model = RandomForestClassifier(n_estimators=100,random_state=42)\n",
        "  model.fit(X_train,y_train)\n",
        "\n",
        "  y_pred = model.predict(X_test)\n",
        "  #print(\"Mean Square Error for Rain Model\")\n",
        "  #print(mean_squared_error(y_test,y_pred))\n",
        "  return model"
      ],
      "metadata": {
        "id": "T4XQ58okKnGR"
      },
      "execution_count": null,
      "outputs": []
    },
    {
      "cell_type": "code",
      "source": [
        "def prepare_regression_data(data,feature):\n",
        "  X , y = [] , []\n",
        "  for i in range(len(data)-1):\n",
        "    X.append(data[feature].iloc[i])\n",
        "    y.append(data[feature].iloc[i+1])\n",
        "  X = np.array(X).reshape(-1,1)\n",
        "  y = np.array(y)\n",
        "  return X , y"
      ],
      "metadata": {
        "id": "b8edtkZsW64t"
      },
      "execution_count": null,
      "outputs": []
    },
    {
      "cell_type": "code",
      "source": [
        "from re import X\n",
        "def train_regression_model(X,y):\n",
        "  model = RandomForestRegressor(n_estimators=100,random_state=42)\n",
        "  model.fit(X,y)\n",
        "  return model"
      ],
      "metadata": {
        "id": "eU5C73qAqazJ"
      },
      "execution_count": null,
      "outputs": []
    },
    {
      "cell_type": "code",
      "source": [
        "def predict_future(model,current_value):\n",
        "  predictions = [current_value]\n",
        "\n",
        "  for i in range(5):\n",
        "    next_value = model.predict(np.array([[predictions[-1]]]))\n",
        "    predictions.append(next_value[0])\n",
        "  return predictions[1:]\n"
      ],
      "metadata": {
        "id": "0OX2FdXxrXP9"
      },
      "execution_count": null,
      "outputs": []
    },
    {
      "cell_type": "code",
      "source": [
        "def weather_view():\n",
        "  city = input(\"Enter the city name: \")\n",
        "  current_weather = get_current_weather(city)\n",
        "  historical_data = read_historical_data('/content/weather.csv')\n",
        "\n",
        "  X, y, le = prepare_data(historical_data)\n",
        "  rain_model = train_rain_model(X, y)\n",
        "\n",
        "  # Calculate the wind direction\n",
        "  wind_deg = current_weather['wind_gust_dir'] % 360\n",
        "  compass_points = [\n",
        "      (\"N\", 0, 11.25), (\"NNE\", 11.25, 33.75), (\"NE\", 33.75, 56.25),\n",
        "      (\"ENE\", 56.25, 78.75), (\"E\", 78.75, 101.25), (\"ESE\", 101.25, 123.75),\n",
        "      (\"SE\", 123.75, 146.25), (\"SSE\", 146.25, 168.75), (\"S\", 168.75, 191.25),\n",
        "      (\"SSW\", 191.25, 213.75), (\"SW\", 213.75, 236.25), (\"WSW\", 236.25, 258.75),\n",
        "      (\"W\", 258.75, 281.25), (\"WNW\", 281.25, 303.75), (\"NW\", 303.75, 326.25),\n",
        "      (\"NNW\", 326.25, 348.75)\n",
        "  ]\n",
        "  compass_direction = next(point for point, start, end in compass_points if start <= wind_deg < end)\n",
        "\n",
        "  # Get the encoded value for WindGustDir if it's in the LabelEncoder's classes, otherwise assign -1\n",
        "  compass_direction_encoded = le.transform([compass_direction])[0] if compass_direction in le.classes_ else -1\n",
        "\n",
        "  current_data = {\n",
        "      'MinTemp': current_weather['temp_min'],\n",
        "      'MaxTemp': current_weather['temp_max'],\n",
        "      'WindGustSpeed': current_weather['Wind_Gust_Speed'],\n",
        "      'Humidity': current_weather['humidity'],\n",
        "      'Pressure': current_weather['pressure'],\n",
        "      'Temp': current_weather['current_temp'],\n",
        "  }\n",
        "  current_df = pd.DataFrame([current_data])\n",
        "\n",
        "  #Rain Prediction\n",
        "  rain_prediction = rain_model.predict(current_df)[0]  # Use current_df with consistent features\n",
        "  #Prepare regression model for temperature and humidity\n",
        "  X_temp, y_temp = prepare_regression_data(historical_data, 'Temp')\n",
        "  X_hum, y_hum = prepare_regression_data(historical_data, 'Humidity')\n",
        "  temp_model = train_regression_model(X_temp, y_temp)\n",
        "  hum_model = train_regression_model(X_hum, y_hum)\n",
        "  #Predict future temperature and humidity\n",
        "\n",
        "\n",
        "  future_temp = predict_future(temp_model, current_weather['temp_min'])\n",
        "  future_humidity = predict_future(hum_model, current_weather['humidity'])\n",
        "\n",
        "\n",
        "  #Prepare time for future Prediction\n",
        "\n",
        "\n",
        "  timezone = pytz.timezone('Asia/Kolkata')\n",
        "  now = datetime.now(timezone)\n",
        "  next_hour = now + timedelta(hours=1)\n",
        "  next_hour = next_hour.replace(minute=0, second=0, microsecond=0)\n",
        "\n",
        "  future_times = [(next_hour + timedelta(hours=i)).strftime(\"%H:00\") for i in range(5)]\n",
        "\n",
        "\n",
        "  #Display Result\n",
        "\n",
        "  print(f\"City: {city}, {current_weather['country']}\")\n",
        "  print(f\"Current Temperature: {current_weather['current_temp']}\")\n",
        "  print(f\"Feels Like: {current_weather['feels_like']}\")\n",
        "  print(f\"Minimum Temperature: {current_weather['temp_min']}°C\")\n",
        "  print(f\"Maximum Temperature: {current_weather['temp_max']}°C\")\n",
        "  print(f\"Humidity: {current_weather['humidity']}%\")\n",
        "  print(f\"Weather Prediction: {current_weather['description']}\")\n",
        "  print(f\"Rain Prediction: {'Yes' if rain_prediction else 'No'}\")\n",
        "\n",
        "  print(\"\\nFuture Temperature Predictions:\")\n",
        "  for time, temp in zip(future_times, future_temp):\n",
        "    print(f\"{time}: {round(temp, 1)}°C\")\n",
        "\n",
        "\n",
        "  print(\"\\nFuture Humidity Predictions:\")\n",
        "\n",
        "  for time, humidity in zip(future_times, future_humidity):\n",
        "    print(f\"{time}: {round(humidity, 1)}%\")\n",
        "\n",
        "weather_view()"
      ],
      "metadata": {
        "colab": {
          "base_uri": "https://localhost:8080/"
        },
        "id": "nAsYrIFSsJn0",
        "outputId": "3c5385c2-b9b2-496e-bd01-85b08e421ba0"
      },
      "execution_count": 13,
      "outputs": [
        {
          "output_type": "stream",
          "name": "stdout",
          "text": [
            "Enter the city name: London\n",
            "City: London, GB\n",
            "Current Temperature: 7\n",
            "Feels Like: 4\n",
            "Minimum Temperature: 6°C\n",
            "Maximum Temperature: 7°C\n",
            "Humidity: 83%\n",
            "Weather Prediction: overcast clouds\n",
            "Rain Prediction: Yes\n",
            "\n",
            "Future Temperature Predictions:\n",
            "15:00: 10.3°C\n",
            "16:00: 10.4°C\n",
            "17:00: 10.4°C\n",
            "18:00: 10.4°C\n",
            "19:00: 10.4°C\n",
            "\n",
            "Future Humidity Predictions:\n",
            "15:00: 54.1%\n",
            "16:00: 58.1%\n",
            "17:00: 54.2%\n",
            "18:00: 58.1%\n",
            "19:00: 54.2%\n"
          ]
        }
      ]
    }
  ]
}